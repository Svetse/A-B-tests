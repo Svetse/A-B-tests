{
 "cells": [
  {
   "cell_type": "code",
   "execution_count": 2,
   "metadata": {},
   "outputs": [
    {
     "name": "stderr",
     "output_type": "stream",
     "text": [
      "/opt/tljh/user/lib/python3.7/site-packages/outdated/utils.py:18: OutdatedCacheFailedWarning: Failed to use cache while checking for outdated package.\n",
      "Set the environment variable OUTDATED_RAISE_EXCEPTION=1 for a full traceback.\n",
      "Set the environment variable OUTDATED_IGNORE=1 to disable these warnings.\n",
      "  **kwargs\n",
      "/opt/tljh/user/lib/python3.7/site-packages/outdated/utils.py:18: OutdatedPackageWarning: The package pingouin is out of date. Your version is 0.4.0, the latest is 0.5.2.\n",
      "Set the environment variable OUTDATED_IGNORE=1 to disable these warnings.\n",
      "  **kwargs\n"
     ]
    }
   ],
   "source": [
    "# Import the required libraries\n",
    "import numpy as np\n",
    "import pandas as pd\n",
    "from scipy.stats import norm, mannwhitneyu\n",
    "import matplotlib.pyplot as plt\n",
    "import seaborn as sns\n",
    "%matplotlib inline\n",
    "import pingouin as pg\n",
    "import pandahouse as ph\n",
    "from tqdm.auto import tqdm"
   ]
  },
  {
   "cell_type": "markdown",
   "metadata": {},
   "source": [
    "# Task 1: A/B testing"
   ]
  },
  {
   "cell_type": "markdown",
   "metadata": {},
   "source": [
    "While testing one hypothesis the target group was offered a new payment mechanics on the website while the control group was left with the basic mechanics. The task is to analyze the results of the experiment and conclude whether the new payment mechanics should be run on all users.\n",
    "\n",
    "We suggest you answer the following questions:\n",
    "\n",
    "What metrics are you looking at in your analysis and why? \n",
    "Are there differences in the metrics and what might they be related to? \n",
    "Are the differences statistically significant? \n",
    "Is it worth running the new mechanics on all users?\n",
    "\n",
    "We have 4 csv files as input:\n",
    "\n",
    "groups.csv - file with information about user's membership in control or experimental group (A - control, B - target group)\n",
    "\n",
    "groups_add.csv - an extra file with users that was sent to you 2 days after the data was transferred\n",
    "\n",
    "active_studs.csv - file with information about users who logged in to the platform on the days of the experiment.\n",
    "\n",
    "checks.csv - file with information about users' payments on the days of the experiment."
   ]
  },
  {
   "cell_type": "code",
   "execution_count": 3,
   "metadata": {},
   "outputs": [],
   "source": [
    "# Loading the data\n",
    "active = pd.read_csv('/mnt/HC_Volume_18315164/home-jupyter/jupyter-s-se/Final_Project/project2/Проект_2_active_studs.csv')\n",
    "checks = pd.read_csv('/mnt/HC_Volume_18315164/home-jupyter/jupyter-s-se/Final_Project/project2/Проект_2_checks.csv', sep=';')\n",
    "groups = pd.read_csv('/mnt/HC_Volume_18315164/home-jupyter/jupyter-s-se/Final_Project/project2/Проект_2_groups.csv', sep=';')\n",
    "\n",
    "# This table will be used in the last task\n",
    "# add = pd.read_csv('Проект_2_group_add.csv')"
   ]
  },
  {
   "cell_type": "markdown",
   "metadata": {},
   "source": [
    "Let's see what the data looks like. Rename the necessary columns."
   ]
  },
  {
   "cell_type": "code",
   "execution_count": 4,
   "metadata": {},
   "outputs": [
    {
     "data": {
      "text/plain": [
       "541"
      ]
     },
     "execution_count": 4,
     "metadata": {},
     "output_type": "execute_result"
    }
   ],
   "source": [
    "active = active.rename(columns={'student_id': 'id'})\n",
    "# We can conclude that each user made just one purchase on the days of the experiment \n",
    "# (541 checks and 541 unique buyers in the table)\n",
    "checks = checks.rename(columns={'student_id': 'id'})\n",
    "checks.shape\n",
    "checks.id.nunique()"
   ]
  },
  {
   "cell_type": "code",
   "execution_count": 5,
   "metadata": {},
   "outputs": [
    {
     "data": {
      "text/html": [
       "<div>\n",
       "<style scoped>\n",
       "    .dataframe tbody tr th:only-of-type {\n",
       "        vertical-align: middle;\n",
       "    }\n",
       "\n",
       "    .dataframe tbody tr th {\n",
       "        vertical-align: top;\n",
       "    }\n",
       "\n",
       "    .dataframe thead th {\n",
       "        text-align: right;\n",
       "    }\n",
       "</style>\n",
       "<table border=\"1\" class=\"dataframe\">\n",
       "  <thead>\n",
       "    <tr style=\"text-align: right;\">\n",
       "      <th></th>\n",
       "      <th>id</th>\n",
       "      <th>rev</th>\n",
       "    </tr>\n",
       "  </thead>\n",
       "  <tbody>\n",
       "    <tr>\n",
       "      <th>0</th>\n",
       "      <td>581585</td>\n",
       "      <td>0.0</td>\n",
       "    </tr>\n",
       "    <tr>\n",
       "      <th>1</th>\n",
       "      <td>5723133</td>\n",
       "      <td>0.0</td>\n",
       "    </tr>\n",
       "    <tr>\n",
       "      <th>2</th>\n",
       "      <td>3276743</td>\n",
       "      <td>0.0</td>\n",
       "    </tr>\n",
       "    <tr>\n",
       "      <th>3</th>\n",
       "      <td>4238589</td>\n",
       "      <td>0.0</td>\n",
       "    </tr>\n",
       "    <tr>\n",
       "      <th>4</th>\n",
       "      <td>4475369</td>\n",
       "      <td>0.0</td>\n",
       "    </tr>\n",
       "  </tbody>\n",
       "</table>\n",
       "</div>"
      ],
      "text/plain": [
       "        id  rev\n",
       "0   581585  0.0\n",
       "1  5723133  0.0\n",
       "2  3276743  0.0\n",
       "3  4238589  0.0\n",
       "4  4475369  0.0"
      ]
     },
     "execution_count": 5,
     "metadata": {},
     "output_type": "execute_result"
    }
   ],
   "source": [
    "# Compile a table with payments from active users\n",
    "active_checks = active.merge(checks, how='left', on='id')\n",
    "active_checks.rev = active_checks.rev.fillna(0)\n",
    "# 8341 rows × 2 columns\n",
    "active_checks.head()"
   ]
  },
  {
   "cell_type": "markdown",
   "metadata": {},
   "source": [
    "We look at how many of the active users made a purchase. There are more actual purchases than active users (541 payments, though only 392 payments from those who visited on the days of the experiment). Plus we know that everyone made only one purchase. Total of __149__ payments not taken into account in the experiment on the days of the experiment.\n",
    "\n",
    "! It is possible that they were not counted as active, and this could affect the conclusions of the experiment. Or are these users with a subscription."
   ]
  },
  {
   "cell_type": "code",
   "execution_count": 6,
   "metadata": {},
   "outputs": [
    {
     "data": {
      "text/plain": [
       "(392, 2)"
      ]
     },
     "execution_count": 6,
     "metadata": {},
     "output_type": "execute_result"
    }
   ],
   "source": [
    "paid_users = active_checks.query('rev>0').groupby('id', as_index=False).agg({'rev': 'sum'})\n",
    "paid_users.shape"
   ]
  },
  {
   "cell_type": "code",
   "execution_count": 8,
   "metadata": {},
   "outputs": [
    {
     "data": {
      "text/html": [
       "<div>\n",
       "<style scoped>\n",
       "    .dataframe tbody tr th:only-of-type {\n",
       "        vertical-align: middle;\n",
       "    }\n",
       "\n",
       "    .dataframe tbody tr th {\n",
       "        vertical-align: top;\n",
       "    }\n",
       "\n",
       "    .dataframe thead th {\n",
       "        text-align: right;\n",
       "    }\n",
       "</style>\n",
       "<table border=\"1\" class=\"dataframe\">\n",
       "  <thead>\n",
       "    <tr style=\"text-align: right;\">\n",
       "      <th></th>\n",
       "      <th>id</th>\n",
       "      <th>rev</th>\n",
       "      <th>grp</th>\n",
       "    </tr>\n",
       "  </thead>\n",
       "  <tbody>\n",
       "    <tr>\n",
       "      <th>1</th>\n",
       "      <td>5723133</td>\n",
       "      <td>0.0</td>\n",
       "      <td>0</td>\n",
       "    </tr>\n",
       "    <tr>\n",
       "      <th>111</th>\n",
       "      <td>5951797</td>\n",
       "      <td>0.0</td>\n",
       "      <td>0</td>\n",
       "    </tr>\n",
       "    <tr>\n",
       "      <th>632</th>\n",
       "      <td>5730382</td>\n",
       "      <td>0.0</td>\n",
       "      <td>0</td>\n",
       "    </tr>\n",
       "    <tr>\n",
       "      <th>2662</th>\n",
       "      <td>5739944</td>\n",
       "      <td>0.0</td>\n",
       "      <td>0</td>\n",
       "    </tr>\n",
       "    <tr>\n",
       "      <th>3830</th>\n",
       "      <td>5945085</td>\n",
       "      <td>0.0</td>\n",
       "      <td>0</td>\n",
       "    </tr>\n",
       "    <tr>\n",
       "      <th>4900</th>\n",
       "      <td>5700613</td>\n",
       "      <td>0.0</td>\n",
       "      <td>0</td>\n",
       "    </tr>\n",
       "    <tr>\n",
       "      <th>5254</th>\n",
       "      <td>5729371</td>\n",
       "      <td>0.0</td>\n",
       "      <td>0</td>\n",
       "    </tr>\n",
       "    <tr>\n",
       "      <th>5746</th>\n",
       "      <td>5777081</td>\n",
       "      <td>0.0</td>\n",
       "      <td>0</td>\n",
       "    </tr>\n",
       "    <tr>\n",
       "      <th>7413</th>\n",
       "      <td>5740903</td>\n",
       "      <td>1900.0</td>\n",
       "      <td>0</td>\n",
       "    </tr>\n",
       "    <tr>\n",
       "      <th>7505</th>\n",
       "      <td>5760471</td>\n",
       "      <td>0.0</td>\n",
       "      <td>0</td>\n",
       "    </tr>\n",
       "    <tr>\n",
       "      <th>7535</th>\n",
       "      <td>5728431</td>\n",
       "      <td>0.0</td>\n",
       "      <td>0</td>\n",
       "    </tr>\n",
       "    <tr>\n",
       "      <th>7647</th>\n",
       "      <td>5723648</td>\n",
       "      <td>0.0</td>\n",
       "      <td>0</td>\n",
       "    </tr>\n",
       "    <tr>\n",
       "      <th>7668</th>\n",
       "      <td>5870856</td>\n",
       "      <td>0.0</td>\n",
       "      <td>0</td>\n",
       "    </tr>\n",
       "  </tbody>\n",
       "</table>\n",
       "</div>"
      ],
      "text/plain": [
       "           id     rev grp\n",
       "1     5723133     0.0   0\n",
       "111   5951797     0.0   0\n",
       "632   5730382     0.0   0\n",
       "2662  5739944     0.0   0\n",
       "3830  5945085     0.0   0\n",
       "4900  5700613     0.0   0\n",
       "5254  5729371     0.0   0\n",
       "5746  5777081     0.0   0\n",
       "7413  5740903  1900.0   0\n",
       "7505  5760471     0.0   0\n",
       "7535  5728431     0.0   0\n",
       "7647  5723648     0.0   0\n",
       "7668  5870856     0.0   0"
      ]
     },
     "execution_count": 8,
     "metadata": {},
     "output_type": "execute_result"
    }
   ],
   "source": [
    "# 13 active users have no breakdown by group. One of them is a paying user.\n",
    "lost = active_checks.merge(groups, how='outer', on='id')\n",
    "lost.grp = lost.grp.fillna(0)\n",
    "lost.query('grp==0')"
   ]
  },
  {
   "cell_type": "code",
   "execution_count": 10,
   "metadata": {},
   "outputs": [
    {
     "data": {
      "text/html": [
       "<div>\n",
       "<style scoped>\n",
       "    .dataframe tbody tr th:only-of-type {\n",
       "        vertical-align: middle;\n",
       "    }\n",
       "\n",
       "    .dataframe tbody tr th {\n",
       "        vertical-align: top;\n",
       "    }\n",
       "\n",
       "    .dataframe thead th {\n",
       "        text-align: right;\n",
       "    }\n",
       "</style>\n",
       "<table border=\"1\" class=\"dataframe\">\n",
       "  <thead>\n",
       "    <tr style=\"text-align: right;\">\n",
       "      <th></th>\n",
       "      <th>id</th>\n",
       "      <th>grp</th>\n",
       "      <th>rev</th>\n",
       "    </tr>\n",
       "  </thead>\n",
       "  <tbody>\n",
       "    <tr>\n",
       "      <th>0</th>\n",
       "      <td>1627</td>\n",
       "      <td>A</td>\n",
       "      <td>990.0</td>\n",
       "    </tr>\n",
       "    <tr>\n",
       "      <th>1</th>\n",
       "      <td>2085</td>\n",
       "      <td>B</td>\n",
       "      <td>0.0</td>\n",
       "    </tr>\n",
       "    <tr>\n",
       "      <th>2</th>\n",
       "      <td>2215</td>\n",
       "      <td>B</td>\n",
       "      <td>0.0</td>\n",
       "    </tr>\n",
       "    <tr>\n",
       "      <th>3</th>\n",
       "      <td>3391</td>\n",
       "      <td>A</td>\n",
       "      <td>0.0</td>\n",
       "    </tr>\n",
       "    <tr>\n",
       "      <th>4</th>\n",
       "      <td>3401</td>\n",
       "      <td>B</td>\n",
       "      <td>0.0</td>\n",
       "    </tr>\n",
       "  </tbody>\n",
       "</table>\n",
       "</div>"
      ],
      "text/plain": [
       "     id grp    rev\n",
       "0  1627   A  990.0\n",
       "1  2085   B    0.0\n",
       "2  2215   B    0.0\n",
       "3  3391   A    0.0\n",
       "4  3401   B    0.0"
      ]
     },
     "execution_count": 10,
     "metadata": {},
     "output_type": "execute_result"
    }
   ],
   "source": [
    "# Select the active participants from the grouping table (groups).\n",
    "exp = groups.query('id in @active_checks.id')\n",
    "# 8328 rows × 2 columns\n",
    "# 13 active users have no breakdown by group. One of them is a paying user.\n",
    "\n",
    "# Now merge the resulting active_checks table with the prepared table with active users' payment information (active_checks).\n",
    "full = exp.merge(active_checks, how='left', on='id')\n",
    "# 8328 rows × 3 columns\n",
    "full.head()"
   ]
  },
  {
   "cell_type": "markdown",
   "metadata": {},
   "source": [
    "We are testing a new payment system and will be looking at user-to-customer conversion and revenue figures:\n",
    "- ARPPU (Revenue/Customers)\n",
    "- ARPU (Revenue/Users).\n",
    "\n",
    "There is simply not enough data for the other metrics."
   ]
  },
  {
   "cell_type": "code",
   "execution_count": 12,
   "metadata": {},
   "outputs": [
    {
     "data": {
      "text/html": [
       "<div>\n",
       "<style scoped>\n",
       "    .dataframe tbody tr th:only-of-type {\n",
       "        vertical-align: middle;\n",
       "    }\n",
       "\n",
       "    .dataframe tbody tr th {\n",
       "        vertical-align: top;\n",
       "    }\n",
       "\n",
       "    .dataframe thead th {\n",
       "        text-align: right;\n",
       "    }\n",
       "</style>\n",
       "<table border=\"1\" class=\"dataframe\">\n",
       "  <thead>\n",
       "    <tr style=\"text-align: right;\">\n",
       "      <th></th>\n",
       "      <th>grp</th>\n",
       "      <th>id</th>\n",
       "      <th>paid</th>\n",
       "      <th>cr</th>\n",
       "      <th>ARPPU</th>\n",
       "      <th>ARPU</th>\n",
       "    </tr>\n",
       "  </thead>\n",
       "  <tbody>\n",
       "    <tr>\n",
       "      <th>0</th>\n",
       "      <td>A</td>\n",
       "      <td>1535</td>\n",
       "      <td>78</td>\n",
       "      <td>5.08</td>\n",
       "      <td>934.0</td>\n",
       "      <td>47.0</td>\n",
       "    </tr>\n",
       "    <tr>\n",
       "      <th>1</th>\n",
       "      <td>B</td>\n",
       "      <td>6793</td>\n",
       "      <td>313</td>\n",
       "      <td>4.61</td>\n",
       "      <td>1256.0</td>\n",
       "      <td>58.0</td>\n",
       "    </tr>\n",
       "  </tbody>\n",
       "</table>\n",
       "</div>"
      ],
      "text/plain": [
       "  grp    id  paid    cr   ARPPU  ARPU\n",
       "0   A  1535    78  5.08   934.0  47.0\n",
       "1   B  6793   313  4.61  1256.0  58.0"
      ]
     },
     "execution_count": 12,
     "metadata": {},
     "output_type": "execute_result"
    }
   ],
   "source": [
    "# How many active members are in each group\n",
    "ab = full.groupby('grp', as_index=False).agg({'id': 'count'}).round(2)\n",
    "\n",
    "# How many active members in each group made a purchase\n",
    "ab['paid'] = full.query('rev>0').groupby('grp', as_index=False).agg({'id': 'count'}).id\n",
    "\n",
    "# What is the conversion from active member to buyer\n",
    "ab['cr'] = (full.query('rev >0').groupby('grp', as_index=False).agg({'id': 'count'}).id / ab.id * 100).round(2)\n",
    "\n",
    "# Average revenue per paying user (here average check)\n",
    "ab['ARPPU'] = (full.groupby('grp', as_index=False).agg({'rev': 'sum'}).rev / ab.paid).round(0)\n",
    "\n",
    "# Average income per active user\n",
    "ab['ARPU'] = full.groupby('grp', as_index=False).agg({'rev': 'mean'}).rev.round(0)\n",
    "\n",
    "ab"
   ]
  },
  {
   "cell_type": "markdown",
   "metadata": {},
   "source": [
    "- Group B has higher ARPPU and ARPU compared to the control group.\n",
    "- Group A has higher conversion to purchase.\n",
    "\n",
    "In order to check the statistical significance of these differences between the groups, a number of statistical tests will be conducted. But first we need to check the distribution of the data in the groups.\n",
    "\n",
    "First we look at the data on __all active users__ of the experiment (both paying and non-paying users)."
   ]
  },
  {
   "cell_type": "code",
   "execution_count": 13,
   "metadata": {},
   "outputs": [
    {
     "name": "stderr",
     "output_type": "stream",
     "text": [
      "/opt/tljh/user/lib/python3.7/site-packages/seaborn/distributions.py:2557: FutureWarning: `distplot` is a deprecated function and will be removed in a future version. Please adapt your code to use either `displot` (a figure-level function with similar flexibility) or `histplot` (an axes-level function for histograms).\n",
      "  warnings.warn(msg, FutureWarning)\n"
     ]
    },
    {
     "data": {
      "text/plain": [
       "<matplotlib.axes._subplots.AxesSubplot at 0x7f6162ebd9b0>"
      ]
     },
     "execution_count": 13,
     "metadata": {},
     "output_type": "execute_result"
    },
    {
     "data": {
      "image/png": "[encoded data removed]",
      "text/plain": [
       "<Figure size 432x288 with 1 Axes>"
      ]
     },
     "metadata": {
      "needs_background": "light"
     },
     "output_type": "display_data"
    }
   ],
   "source": [
    "# Make sure that the revenue distribution is different from normal\n",
    "sns.distplot(full[full.grp == 'B'].rev, bins=10, kde=False)\n",
    "sns.distplot(full[full.grp == 'A'].rev, bins=10, kde=False)"
   ]
  },
  {
   "cell_type": "code",
   "execution_count": 14,
   "metadata": {},
   "outputs": [
    {
     "data": {
      "text/html": [
       "<div>\n",
       "<style scoped>\n",
       "    .dataframe tbody tr th:only-of-type {\n",
       "        vertical-align: middle;\n",
       "    }\n",
       "\n",
       "    .dataframe tbody tr th {\n",
       "        vertical-align: top;\n",
       "    }\n",
       "\n",
       "    .dataframe thead th {\n",
       "        text-align: right;\n",
       "    }\n",
       "</style>\n",
       "<table border=\"1\" class=\"dataframe\">\n",
       "  <thead>\n",
       "    <tr style=\"text-align: right;\">\n",
       "      <th></th>\n",
       "      <th>W</th>\n",
       "      <th>pval</th>\n",
       "      <th>normal</th>\n",
       "    </tr>\n",
       "  </thead>\n",
       "  <tbody>\n",
       "    <tr>\n",
       "      <th>A</th>\n",
       "      <td>2235.003893</td>\n",
       "      <td>0.0</td>\n",
       "      <td>False</td>\n",
       "    </tr>\n",
       "    <tr>\n",
       "      <th>B</th>\n",
       "      <td>7799.583992</td>\n",
       "      <td>0.0</td>\n",
       "      <td>False</td>\n",
       "    </tr>\n",
       "  </tbody>\n",
       "</table>\n",
       "</div>"
      ],
      "text/plain": [
       "             W  pval  normal\n",
       "A  2235.003893   0.0   False\n",
       "B  7799.583992   0.0   False"
      ]
     },
     "execution_count": 14,
     "metadata": {},
     "output_type": "execute_result"
    }
   ],
   "source": [
    "# use pingouin to test the normality of the group distribution\n",
    "\n",
    "pg.normality(data=full, dv=\"rev\", group=\"grp\", method=\"normaltest\")\n",
    "\n",
    "# the data in the groups is not normally distributed"
   ]
  },
  {
   "cell_type": "code",
   "execution_count": 15,
   "metadata": {},
   "outputs": [],
   "source": [
    "# Let's use the bootstrap as a more appropriate method under these conditions: \n",
    "# a large difference in the number of subjects between the groups and a non-normal distribution\n",
    "# Declare a function that will allow hypothesis testing using the bootstrap\n",
    "\n",
    "def get_bootstrap(\n",
    "    data_column_1,  # numerical values of the first sample\n",
    "    data_column_2,  # numerical values of the second sample\n",
    "    boot_it = 10000,  # number of bootstrap subsamples\n",
    "    statistic = np.mean,  # statistic of interest\n",
    "    bootstrap_conf_level = 0.95  # significance level\n",
    "):\n",
    "    boot_len = max([len(data_column_1), len(data_column_2)])\n",
    "    boot_data = []\n",
    "    for i in tqdm(range(boot_it)):  # extract subsamples\n",
    "        samples_1 = data_column_1.sample(\n",
    "            boot_len, \n",
    "            replace = True  # return parameter\n",
    "        ).values\n",
    "        \n",
    "        samples_2 = data_column_2.sample(\n",
    "            boot_len, \n",
    "            replace = True\n",
    "        ).values\n",
    "        \n",
    "        boot_data.append(statistic(samples_1-samples_2))  # mean() - apply statistics\n",
    "        \n",
    "    pd_boot_data = pd.DataFrame(boot_data)\n",
    "        \n",
    "    left_quant = (1 - bootstrap_conf_level)/2\n",
    "    right_quant = 1 - (1 - bootstrap_conf_level) / 2\n",
    "    ci = pd_boot_data.quantile([left_quant, right_quant])\n",
    "        \n",
    "    p_1 = norm.cdf(\n",
    "        x = 0, \n",
    "        loc = np.mean(boot_data), \n",
    "        scale = np.std(boot_data)\n",
    "    )\n",
    "    p_2 = norm.cdf(\n",
    "        x = 0, \n",
    "        loc = -np.mean(boot_data), \n",
    "        scale = np.std(boot_data)\n",
    "    )\n",
    "    p_value = min(p_1, p_2) * 2\n",
    "        \n",
    "    # Visualisation\n",
    "    plt.hist(pd_boot_data[0], bins=50)\n",
    "    \n",
    "    plt.style.use('ggplot')\n",
    "    plt.vlines(ci,ymin=0,ymax=50,linestyle='--')\n",
    "    plt.xlabel('boot_data')\n",
    "    plt.ylabel('frequency')\n",
    "    plt.title(\"Histogram of boot_data\")\n",
    "    plt.show()\n",
    "       \n",
    "    return {\"boot_data\": boot_data, \n",
    "            \"ci\": ci, \n",
    "            \"p_value\": p_value}"
   ]
  },
  {
   "cell_type": "code",
   "execution_count": 16,
   "metadata": {},
   "outputs": [
    {
     "data": {
      "application/vnd.jupyter.widget-view+json": {
       "model_id": "9d756e4e45ff41c68a0e6822d670f9c3",
       "version_major": 2,
       "version_minor": 0
      },
      "text/plain": [
       "HBox(children=(FloatProgress(value=0.0, max=10000.0), HTML(value='')))"
      ]
     },
     "metadata": {},
     "output_type": "display_data"
    },
    {
     "name": "stdout",
     "output_type": "stream",
     "text": [
      "\n"
     ]
    },
    {
     "data": {
      "image/png": "[encoded data removed]",
      "text/plain": [
       "<Figure size 432x288 with 1 Axes>"
      ]
     },
     "metadata": {
      "needs_background": "light"
     },
     "output_type": "display_data"
    }
   ],
   "source": [
    "booted_data_mean_full = get_bootstrap(\n",
    "    full.query('grp == \"A\"').rev,  # numerical values of the first sample\n",
    "    full.query('grp == \"B\"').rev,  # numerical values# number of bootstrap subsamples of the second sample\n",
    "    boot_it = 10000,  # number of bootstrap subsamples\n",
    "    statistic = np.mean, # statistic of interest\n",
    "    bootstrap_conf_level = 0.95  # significance level\n",
    ")"
   ]
  },
  {
   "cell_type": "code",
   "execution_count": 17,
   "metadata": {},
   "outputs": [
    {
     "data": {
      "text/plain": [
       "0.04429980180197975"
      ]
     },
     "execution_count": 17,
     "metadata": {},
     "output_type": "execute_result"
    }
   ],
   "source": [
    "booted_data_mean_full[\"p_value\"]"
   ]
  },
  {
   "cell_type": "code",
   "execution_count": 18,
   "metadata": {},
   "outputs": [
    {
     "data": {
      "text/html": [
       "<div>\n",
       "<style scoped>\n",
       "    .dataframe tbody tr th:only-of-type {\n",
       "        vertical-align: middle;\n",
       "    }\n",
       "\n",
       "    .dataframe tbody tr th {\n",
       "        vertical-align: top;\n",
       "    }\n",
       "\n",
       "    .dataframe thead th {\n",
       "        text-align: right;\n",
       "    }\n",
       "</style>\n",
       "<table border=\"1\" class=\"dataframe\">\n",
       "  <thead>\n",
       "    <tr style=\"text-align: right;\">\n",
       "      <th></th>\n",
       "      <th>0</th>\n",
       "    </tr>\n",
       "  </thead>\n",
       "  <tbody>\n",
       "    <tr>\n",
       "      <th>0.025</th>\n",
       "      <td>-20.612168</td>\n",
       "    </tr>\n",
       "    <tr>\n",
       "      <th>0.975</th>\n",
       "      <td>-0.240553</td>\n",
       "    </tr>\n",
       "  </tbody>\n",
       "</table>\n",
       "</div>"
      ],
      "text/plain": [
       "               0\n",
       "0.025 -20.612168\n",
       "0.975  -0.240553"
      ]
     },
     "execution_count": 18,
     "metadata": {},
     "output_type": "execute_result"
    }
   ],
   "source": [
    "booted_data_mean_full[\"ci\"]"
   ]
  },
  {
   "cell_type": "markdown",
   "metadata": {},
   "source": [
    "The bootstrap test showed a p-value <0.05, and the confidence interval for the difference in the mean does not include zero, so we reject the null hypothesis. The test and control sample for all active users of the experiment (both paying and non-paying) have differences.\n",
    "\n",
    "Now look at the data for all __active paying__ users in the experiment."
   ]
  },
  {
   "cell_type": "code",
   "execution_count": 19,
   "metadata": {},
   "outputs": [
    {
     "data": {
      "text/plain": [
       "<matplotlib.axes._subplots.AxesSubplot at 0x7f6162806668>"
      ]
     },
     "execution_count": 19,
     "metadata": {},
     "output_type": "execute_result"
    },
    {
     "data": {
      "image/png": "[encoded data removed]",
      "text/plain": [
       "<Figure size 432x288 with 1 Axes>"
      ]
     },
     "metadata": {},
     "output_type": "display_data"
    }
   ],
   "source": [
    "paid = full.query('rev>0')\n",
    "sns.boxplot(x=\"grp\", y=\"rev\", data=paid)\n",
    "# boxplot shows basic statistics of the data samples. Outliers are present in both groups."
   ]
  },
  {
   "cell_type": "code",
   "execution_count": 20,
   "metadata": {},
   "outputs": [
    {
     "name": "stderr",
     "output_type": "stream",
     "text": [
      "/opt/tljh/user/lib/python3.7/site-packages/seaborn/distributions.py:2557: FutureWarning: `distplot` is a deprecated function and will be removed in a future version. Please adapt your code to use either `displot` (a figure-level function with similar flexibility) or `histplot` (an axes-level function for histograms).\n",
      "  warnings.warn(msg, FutureWarning)\n"
     ]
    },
    {
     "data": {
      "text/plain": [
       "<matplotlib.axes._subplots.AxesSubplot at 0x7f6162796208>"
      ]
     },
     "execution_count": 20,
     "metadata": {},
     "output_type": "execute_result"
    },
    {
     "data": {
      "image/png": "[encoded data removed]",
      "text/plain": [
       "<Figure size 432x288 with 1 Axes>"
      ]
     },
     "metadata": {},
     "output_type": "display_data"
    }
   ],
   "source": [
    "# Make sure that the revenue distribution is different from normal\n",
    "\n",
    "sns.distplot(paid[paid.grp == 'A'].rev, bins=10, kde=False)\n",
    "sns.distplot(paid[paid.grp == 'B'].rev, bins=10, kde=False)\n",
    "\n",
    "# Group B has an abnormally high number of customers with a purchase of 1,900 c.u."
   ]
  },
  {
   "cell_type": "code",
   "execution_count": 22,
   "metadata": {},
   "outputs": [
    {
     "data": {
      "text/html": [
       "<div>\n",
       "<style scoped>\n",
       "    .dataframe tbody tr th:only-of-type {\n",
       "        vertical-align: middle;\n",
       "    }\n",
       "\n",
       "    .dataframe tbody tr th {\n",
       "        vertical-align: top;\n",
       "    }\n",
       "\n",
       "    .dataframe thead th {\n",
       "        text-align: right;\n",
       "    }\n",
       "</style>\n",
       "<table border=\"1\" class=\"dataframe\">\n",
       "  <thead>\n",
       "    <tr style=\"text-align: right;\">\n",
       "      <th></th>\n",
       "      <th>W</th>\n",
       "      <th>pval</th>\n",
       "      <th>normal</th>\n",
       "    </tr>\n",
       "  </thead>\n",
       "  <tbody>\n",
       "    <tr>\n",
       "      <th>A</th>\n",
       "      <td>30.37842</td>\n",
       "      <td>2.531687e-07</td>\n",
       "      <td>False</td>\n",
       "    </tr>\n",
       "    <tr>\n",
       "      <th>B</th>\n",
       "      <td>7.02227</td>\n",
       "      <td>2.986301e-02</td>\n",
       "      <td>False</td>\n",
       "    </tr>\n",
       "  </tbody>\n",
       "</table>\n",
       "</div>"
      ],
      "text/plain": [
       "          W          pval  normal\n",
       "A  30.37842  2.531687e-07   False\n",
       "B   7.02227  2.986301e-02   False"
      ]
     },
     "execution_count": 22,
     "metadata": {},
     "output_type": "execute_result"
    }
   ],
   "source": [
    "# use pingouin to test the normality of the group distribution\n",
    "\n",
    "pg.normality(data=paid, dv=\"rev\", group=\"grp\", method=\"normaltest\")\n",
    "\n",
    "# the data in the groups is not normally distributed"
   ]
  },
  {
   "cell_type": "code",
   "execution_count": 25,
   "metadata": {},
   "outputs": [
    {
     "data": {
      "application/vnd.jupyter.widget-view+json": {
       "model_id": "f14a4665d29548c086b713da0fb5d424",
       "version_major": 2,
       "version_minor": 0
      },
      "text/plain": [
       "HBox(children=(FloatProgress(value=0.0, max=10000.0), HTML(value='')))"
      ]
     },
     "metadata": {},
     "output_type": "display_data"
    },
    {
     "name": "stdout",
     "output_type": "stream",
     "text": [
      "\n"
     ]
    },
    {
     "data": {
      "image/png": "[encoded data removed]",
      "text/plain": [
       "<Figure size 432x288 with 1 Axes>"
      ]
     },
     "metadata": {},
     "output_type": "display_data"
    }
   ],
   "source": [
    "# Use the bootstrap to see how the difference between the means is distributed\n",
    "# for control and test groups among paying users.\n",
    "\n",
    "booted_data_mean_paid = get_bootstrap(\n",
    "    paid.query('grp == \"A\"').rev,  # numerical values of the first sample\n",
    "    paid.query('grp == \"B\"').rev,  # numerical values# number of bootstrap subsamples of the second sample\n",
    "    boot_it = 10000,  # number of bootstrap subsamples\n",
    "    statistic = np.mean, # statistic of interest\n",
    "    bootstrap_conf_level = 0.95  # significance level\n",
    ")"
   ]
  },
  {
   "cell_type": "code",
   "execution_count": 26,
   "metadata": {},
   "outputs": [
    {
     "data": {
      "text/plain": [
       "2.239679212985711e-06"
      ]
     },
     "execution_count": 26,
     "metadata": {},
     "output_type": "execute_result"
    }
   ],
   "source": [
    "booted_data_mean_paid[\"p_value\"]"
   ]
  },
  {
   "cell_type": "code",
   "execution_count": 27,
   "metadata": {},
   "outputs": [
    {
     "data": {
      "text/html": [
       "<div>\n",
       "<style scoped>\n",
       "    .dataframe tbody tr th:only-of-type {\n",
       "        vertical-align: middle;\n",
       "    }\n",
       "\n",
       "    .dataframe tbody tr th {\n",
       "        vertical-align: top;\n",
       "    }\n",
       "\n",
       "    .dataframe thead th {\n",
       "        text-align: right;\n",
       "    }\n",
       "</style>\n",
       "<table border=\"1\" class=\"dataframe\">\n",
       "  <thead>\n",
       "    <tr style=\"text-align: right;\">\n",
       "      <th></th>\n",
       "      <th>0</th>\n",
       "    </tr>\n",
       "  </thead>\n",
       "  <tbody>\n",
       "    <tr>\n",
       "      <th>0.025</th>\n",
       "      <td>-455.598814</td>\n",
       "    </tr>\n",
       "    <tr>\n",
       "      <th>0.975</th>\n",
       "      <td>-188.889550</td>\n",
       "    </tr>\n",
       "  </tbody>\n",
       "</table>\n",
       "</div>"
      ],
      "text/plain": [
       "                0\n",
       "0.025 -455.598814\n",
       "0.975 -188.889550"
      ]
     },
     "execution_count": 27,
     "metadata": {},
     "output_type": "execute_result"
    }
   ],
   "source": [
    "booted_data_mean_paid[\"ci\"]"
   ]
  },
  {
   "cell_type": "markdown",
   "metadata": {},
   "source": [
    "The bootstrap test showed a p-value < 0.05, and the confidence interval for the means' difference does not include zero, so we reject the null hypothesis. The test and control sample for __active paying__ users have statistically significant differences.\n",
    "\n",
    "Now we need to establish whether the difference in conversions (CR) between the groups is statistically significant. To do this, apply Pearson's chi-square test to test the independence of the categorical variables."
   ]
  },
  {
   "cell_type": "code",
   "execution_count": 33,
   "metadata": {},
   "outputs": [
    {
     "data": {
      "text/html": [
       "<div>\n",
       "<style scoped>\n",
       "    .dataframe tbody tr th:only-of-type {\n",
       "        vertical-align: middle;\n",
       "    }\n",
       "\n",
       "    .dataframe tbody tr th {\n",
       "        vertical-align: top;\n",
       "    }\n",
       "\n",
       "    .dataframe thead th {\n",
       "        text-align: right;\n",
       "    }\n",
       "</style>\n",
       "<table border=\"1\" class=\"dataframe\">\n",
       "  <thead>\n",
       "    <tr style=\"text-align: right;\">\n",
       "      <th></th>\n",
       "      <th>id</th>\n",
       "      <th>grp</th>\n",
       "      <th>rev</th>\n",
       "      <th>customer</th>\n",
       "    </tr>\n",
       "  </thead>\n",
       "  <tbody>\n",
       "    <tr>\n",
       "      <th>0</th>\n",
       "      <td>1627</td>\n",
       "      <td>A</td>\n",
       "      <td>990.0</td>\n",
       "      <td>1</td>\n",
       "    </tr>\n",
       "    <tr>\n",
       "      <th>1</th>\n",
       "      <td>2085</td>\n",
       "      <td>B</td>\n",
       "      <td>0.0</td>\n",
       "      <td>0</td>\n",
       "    </tr>\n",
       "    <tr>\n",
       "      <th>2</th>\n",
       "      <td>2215</td>\n",
       "      <td>B</td>\n",
       "      <td>0.0</td>\n",
       "      <td>0</td>\n",
       "    </tr>\n",
       "    <tr>\n",
       "      <th>3</th>\n",
       "      <td>3391</td>\n",
       "      <td>A</td>\n",
       "      <td>0.0</td>\n",
       "      <td>0</td>\n",
       "    </tr>\n",
       "    <tr>\n",
       "      <th>4</th>\n",
       "      <td>3401</td>\n",
       "      <td>B</td>\n",
       "      <td>0.0</td>\n",
       "      <td>0</td>\n",
       "    </tr>\n",
       "  </tbody>\n",
       "</table>\n",
       "</div>"
      ],
      "text/plain": [
       "     id grp    rev  customer\n",
       "0  1627   A  990.0         1\n",
       "1  2085   B    0.0         0\n",
       "2  2215   B    0.0         0\n",
       "3  3391   A    0.0         0\n",
       "4  3401   B    0.0         0"
      ]
     },
     "execution_count": 33,
     "metadata": {},
     "output_type": "execute_result"
    }
   ],
   "source": [
    "# Add a column where 1 means the user has made a purchase and 0 means the user has not made a purchase.\n",
    "full['customer'] = full.rev.apply(lambda x: 1 if x > 0 else 0)\n",
    "full.head()"
   ]
  },
  {
   "cell_type": "code",
   "execution_count": 34,
   "metadata": {},
   "outputs": [
    {
     "data": {
      "text/html": [
       "<div>\n",
       "<style scoped>\n",
       "    .dataframe tbody tr th:only-of-type {\n",
       "        vertical-align: middle;\n",
       "    }\n",
       "\n",
       "    .dataframe tbody tr th {\n",
       "        vertical-align: top;\n",
       "    }\n",
       "\n",
       "    .dataframe thead th {\n",
       "        text-align: right;\n",
       "    }\n",
       "</style>\n",
       "<table border=\"1\" class=\"dataframe\">\n",
       "  <thead>\n",
       "    <tr style=\"text-align: right;\">\n",
       "      <th>customer</th>\n",
       "      <th>0</th>\n",
       "      <th>1</th>\n",
       "    </tr>\n",
       "    <tr>\n",
       "      <th>grp</th>\n",
       "      <th></th>\n",
       "      <th></th>\n",
       "    </tr>\n",
       "  </thead>\n",
       "  <tbody>\n",
       "    <tr>\n",
       "      <th>A</th>\n",
       "      <td>1457</td>\n",
       "      <td>78</td>\n",
       "    </tr>\n",
       "    <tr>\n",
       "      <th>B</th>\n",
       "      <td>6480</td>\n",
       "      <td>313</td>\n",
       "    </tr>\n",
       "  </tbody>\n",
       "</table>\n",
       "</div>"
      ],
      "text/plain": [
       "customer     0    1\n",
       "grp                \n",
       "A         1457   78\n",
       "B         6480  313"
      ]
     },
     "execution_count": 34,
     "metadata": {},
     "output_type": "execute_result"
    }
   ],
   "source": [
    "# Create a summary or contingency table\n",
    "full_chi2 = pd.crosstab(full.grp, full.customer)\n",
    "full_chi2"
   ]
  },
  {
   "cell_type": "code",
   "execution_count": 35,
   "metadata": {},
   "outputs": [
    {
     "name": "stdout",
     "output_type": "stream",
     "text": [
      "Independent (H0 holds true)\n"
     ]
    }
   ],
   "source": [
    "from scipy.stats import chi2_contingency\n",
    "stat, p, dof, expected = chi2_contingency(full_chi2)\n",
    "\n",
    "alpha = 0.05\n",
    "if p <= alpha:\n",
    "   print ( 'Dependent (reject H0)' )\n",
    "else :\n",
    "    print ( 'Independent (H0 holds true)' )"
   ]
  },
  {
   "cell_type": "code",
   "execution_count": 36,
   "metadata": {},
   "outputs": [
    {
     "data": {
      "text/plain": [
       "0.46803677583199144"
      ]
     },
     "execution_count": 36,
     "metadata": {},
     "output_type": "execute_result"
    }
   ],
   "source": [
    "p"
   ]
  },
  {
   "cell_type": "markdown",
   "metadata": {},
   "source": [
    "p-value > 0.05, and we accept the null hypothesis that being a member of one group or another has no effect on the number of purchases made."
   ]
  },
  {
   "cell_type": "code",
   "execution_count": 37,
   "metadata": {},
   "outputs": [
    {
     "data": {
      "text/html": [
       "<div>\n",
       "<style scoped>\n",
       "    .dataframe tbody tr th:only-of-type {\n",
       "        vertical-align: middle;\n",
       "    }\n",
       "\n",
       "    .dataframe tbody tr th {\n",
       "        vertical-align: top;\n",
       "    }\n",
       "\n",
       "    .dataframe thead th {\n",
       "        text-align: right;\n",
       "    }\n",
       "</style>\n",
       "<table border=\"1\" class=\"dataframe\">\n",
       "  <thead>\n",
       "    <tr style=\"text-align: right;\">\n",
       "      <th></th>\n",
       "      <th>grp</th>\n",
       "      <th>id</th>\n",
       "      <th>paid</th>\n",
       "      <th>cr</th>\n",
       "      <th>ARPPU</th>\n",
       "      <th>ARPU</th>\n",
       "    </tr>\n",
       "  </thead>\n",
       "  <tbody>\n",
       "    <tr>\n",
       "      <th>0</th>\n",
       "      <td>A</td>\n",
       "      <td>1535</td>\n",
       "      <td>78</td>\n",
       "      <td>5.08</td>\n",
       "      <td>934.0</td>\n",
       "      <td>47.0</td>\n",
       "    </tr>\n",
       "    <tr>\n",
       "      <th>1</th>\n",
       "      <td>B</td>\n",
       "      <td>6793</td>\n",
       "      <td>313</td>\n",
       "      <td>4.61</td>\n",
       "      <td>1256.0</td>\n",
       "      <td>58.0</td>\n",
       "    </tr>\n",
       "  </tbody>\n",
       "</table>\n",
       "</div>"
      ],
      "text/plain": [
       "  grp    id  paid    cr   ARPPU  ARPU\n",
       "0   A  1535    78  5.08   934.0  47.0\n",
       "1   B  6793   313  4.61  1256.0  58.0"
      ]
     },
     "execution_count": 37,
     "metadata": {},
     "output_type": "execute_result"
    }
   ],
   "source": [
    "# Ones again our metrics\n",
    "ab"
   ]
  },
  {
   "cell_type": "markdown",
   "metadata": {},
   "source": [
    "- The test sample has large outliers, this greatly distorts our mean.\n",
    "- The bootstrap with an estimate of the mean of all _active users_ showed a p-value < 0.05, we could reject the null hypothesis of equality of means and conclude that the test sample and the control sample of all active users have differences (__metric ARPU__)\n",
    "- The bootstrap estimation of the mean of all _paying_ users showed a p-value < 0.05. We could reject the null hypothesis of equality of means and conclude that the test sample and the control sample of all paying users have differences (__metric ARPPU__).\n",
    "- No statistically significant differences were found between test and control group conversions to purchase (__metric CR__).\n",
    "\n",
    "__Conclusion__: The average revenue per paying user and average revenue per active user is higher in group B, and this difference is statistically significant. The decrease in conversion in the test group is not statistically significant. The metrics tell us that the new payment mechanics can be run on all users.  \n",
    "\n",
    "In case the experiment will be repeated, there are some details to keep in mind:\n",
    "- a relatively equal number of subjects in the control and test groups, \n",
    "- check the nature of the \"anomaly\" (where group B has purchases of 1900 c.u.), \n",
    "- assign the groups to all active participants (there are now 13 people without groups),\n",
    "- find out how the cheque could get into the experiment table if this participant was not active."
   ]
  },
  {
   "cell_type": "markdown",
   "metadata": {},
   "source": [
    "# Task 2."
   ]
  },
  {
   "cell_type": "markdown",
   "metadata": {},
   "source": [
    "Implement a function that will automatically load information from an additional __groups_add.csv__ file and recalculate metrics based on additional parameters."
   ]
  },
  {
   "cell_type": "code",
   "execution_count": 38,
   "metadata": {},
   "outputs": [],
   "source": [
    "file_path = '/mnt/HC_Volume_18315164/home-jupyter/jupyter-s-se/Final_Project/project2/Проект_2_group_add.csv'\n",
    "\n",
    "def import_data(file_path):\n",
    "    groups_full = groups.append(pd.read_csv(file_path, sep = ','))\n",
    "    df_update = active.merge(checks, how='left', on='id')\n",
    "    df_update.rev = df_update.rev.fillna(0)\n",
    "    exp_update = groups_full.query('id in @df_update.id')\n",
    "    full_update = exp_update.merge(df_update, how='left', on='id')\n",
    "    ab_update = full_update.groupby('grp', as_index=False).agg({'id': 'count'}).round(2)\n",
    "    ab_update['paid'] = full_update.query('rev>0').groupby('grp', as_index=False).agg({'id': 'count'}).id\n",
    "    ab_update['cr'] = (full_update.query('rev >0').groupby('grp', as_index=False).agg({'id': 'count'}).id / ab_update.id * 100).round(2)\n",
    "    ab_update['ARPPU'] = (full_update.groupby('grp', as_index=False).agg({'rev': 'sum'}).rev / ab_update.paid).round(0)\n",
    "    ab_update['ARPU'] = full_update.groupby('grp', as_index=False).agg({'rev': 'mean'}).rev.round(0)\n",
    "    return ab_update"
   ]
  },
  {
   "cell_type": "code",
   "execution_count": 39,
   "metadata": {},
   "outputs": [
    {
     "data": {
      "text/html": [
       "<div>\n",
       "<style scoped>\n",
       "    .dataframe tbody tr th:only-of-type {\n",
       "        vertical-align: middle;\n",
       "    }\n",
       "\n",
       "    .dataframe tbody tr th {\n",
       "        vertical-align: top;\n",
       "    }\n",
       "\n",
       "    .dataframe thead th {\n",
       "        text-align: right;\n",
       "    }\n",
       "</style>\n",
       "<table border=\"1\" class=\"dataframe\">\n",
       "  <thead>\n",
       "    <tr style=\"text-align: right;\">\n",
       "      <th></th>\n",
       "      <th>grp</th>\n",
       "      <th>id</th>\n",
       "      <th>paid</th>\n",
       "      <th>cr</th>\n",
       "      <th>ARPPU</th>\n",
       "      <th>ARPU</th>\n",
       "    </tr>\n",
       "  </thead>\n",
       "  <tbody>\n",
       "    <tr>\n",
       "      <th>0</th>\n",
       "      <td>A</td>\n",
       "      <td>1538</td>\n",
       "      <td>78</td>\n",
       "      <td>5.07</td>\n",
       "      <td>934.0</td>\n",
       "      <td>47.0</td>\n",
       "    </tr>\n",
       "    <tr>\n",
       "      <th>1</th>\n",
       "      <td>B</td>\n",
       "      <td>6803</td>\n",
       "      <td>314</td>\n",
       "      <td>4.62</td>\n",
       "      <td>1258.0</td>\n",
       "      <td>58.0</td>\n",
       "    </tr>\n",
       "  </tbody>\n",
       "</table>\n",
       "</div>"
      ],
      "text/plain": [
       "  grp    id  paid    cr   ARPPU  ARPU\n",
       "0   A  1538    78  5.07   934.0  47.0\n",
       "1   B  6803   314  4.62  1258.0  58.0"
      ]
     },
     "execution_count": 39,
     "metadata": {},
     "output_type": "execute_result"
    }
   ],
   "source": [
    "import_data(file_path)"
   ]
  },
  {
   "cell_type": "markdown",
   "metadata": {},
   "source": [
    "Implement a function that will graph the resulting metrics."
   ]
  },
  {
   "cell_type": "code",
   "execution_count": 40,
   "metadata": {},
   "outputs": [],
   "source": [
    "def graphics(ab_update):\n",
    "    sns.set_theme(style=\"whitegrid\")\n",
    "    fig, axes = plt.subplots(figsize=(20, 4))\n",
    "    plt.suptitle(\"Сравнение метрик после А/Б теста\")\n",
    "    \n",
    "    plt.subplot(1, 3, 1)\n",
    "    sns.barplot(x=\"grp\", y=\"cr\", data=ab_update)\n",
    "    plt.xlabel(\"Group\")\n",
    "    plt.ylabel(\"CR, %\")    \n",
    "    \n",
    "    plt.subplot(1, 3, 2)\n",
    "    sns.barplot(x=\"grp\", y=\"ARPU\", data=ab_update)\n",
    "    plt.xlabel(\"Group\")\n",
    "    plt.ylabel(\"ARPU\")\n",
    "    \n",
    "    plt.subplot(1, 3, 3)\n",
    "    sns.barplot(x=\"grp\", y=\"ARPPU\", data=ab_update)\n",
    "    plt.xlabel(\"Group\")\n",
    "    plt.ylabel(\"ARPPU\")"
   ]
  },
  {
   "cell_type": "code",
   "execution_count": 41,
   "metadata": {},
   "outputs": [
    {
     "data": {
      "image/png": "[encoded data removed]",
      "text/plain": [
       "<Figure size 1440x288 with 3 Axes>"
      ]
     },
     "metadata": {},
     "output_type": "display_data"
    }
   ],
   "source": [
    "graphics(import_data(file_path))"
   ]
  },
  {
   "cell_type": "code",
   "execution_count": null,
   "metadata": {},
   "outputs": [],
   "source": []
  }
 ],
 "metadata": {
  "kernelspec": {
   "display_name": "Python 3",
   "language": "python",
   "name": "python3"
  },
  "language_info": {
   "codemirror_mode": {
    "name": "ipython",
    "version": 3
   },
   "file_extension": ".py",
   "mimetype": "text/x-python",
   "name": "python",
   "nbconvert_exporter": "python",
   "pygments_lexer": "ipython3",
   "version": "3.7.3"
  }
 },
 "nbformat": 4,
 "nbformat_minor": 4
}
